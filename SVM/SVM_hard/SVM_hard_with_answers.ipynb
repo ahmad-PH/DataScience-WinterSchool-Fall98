{
  "nbformat": 4,
  "nbformat_minor": 0,
  "metadata": {
    "colab": {
      "name": "winter-school-SVM.ipynb",
      "provenance": [],
      "collapsed_sections": []
    },
    "kernelspec": {
      "name": "python3",
      "display_name": "Python 3"
    }
  },
  "cells": [
    {
      "cell_type": "code",
      "metadata": {
        "id": "rTuVaN06erPq",
        "colab_type": "code",
        "colab": {}
      },
      "source": [
        "import numpy as np\n",
        "from matplotlib import pyplot as plt\n",
        "import pandas as pd"
      ],
      "execution_count": 0,
      "outputs": []
    },
    {
      "cell_type": "code",
      "metadata": {
        "id": "fz3qiLmSfr2X",
        "colab_type": "code",
        "colab": {}
      },
      "source": [
        "df = pd.read_csv('iris-hard.csv')\n",
        "df"
      ],
      "execution_count": 0,
      "outputs": []
    },
    {
      "cell_type": "code",
      "metadata": {
        "id": "UXjuaXYQgaU6",
        "colab_type": "code",
        "colab": {
          "base_uri": "https://localhost:8080/",
          "height": 283
        },
        "outputId": "1a387e85-ae07-43aa-cc7c-19553491c512"
      },
      "source": [
        "# visualize the data\n",
        "c1 = df[df['species'] == 'Iris-setosa']\n",
        "c2 = df[df['species'] == 'Iris-versicolor']\n",
        "\n",
        "plt.scatter(c1.iloc[:,0], c1.iloc[:,1])\n",
        "plt.scatter(c2.iloc[:,0], c2.iloc[:,1])"
      ],
      "execution_count": 360,
      "outputs": [
        {
          "output_type": "execute_result",
          "data": {
            "text/plain": [
              "<matplotlib.collections.PathCollection at 0x7f257651f9b0>"
            ]
          },
          "metadata": {
            "tags": []
          },
          "execution_count": 360
        },
        {
          "output_type": "display_data",
          "data": {
            "image/png": "[encoded data removed]",
            "text/plain": [
              "<Figure size 432x288 with 1 Axes>"
            ]
          },
          "metadata": {
            "tags": []
          }
        }
      ]
    },
    {
      "cell_type": "code",
      "metadata": {
        "id": "hV6oLJVO-WYE",
        "colab_type": "code",
        "colab": {}
      },
      "source": [
        "# prepare the data\n",
        "X = df.iloc[:, :-1].to_numpy()\n",
        "Y = df['species']\n",
        "Y = (Y == 'Iris-versicolor')\n",
        "Y = 2 * (Y) - 1\n",
        "Y = Y.to_numpy()"
      ],
      "execution_count": 0,
      "outputs": []
    },
    {
      "cell_type": "code",
      "metadata": {
        "id": "4HHX8BXQiUBD",
        "colab_type": "code",
        "colab": {}
      },
      "source": [
        "n_features = 2\n",
        "\n",
        "def train_svm_using_sgd(x,y):\n",
        "    #initilizing weights\n",
        "    w = np.zeros(n_features)\n",
        "    b = 0.\n",
        "    h = 0.3 # TODO: choose\n",
        "\n",
        "    learning_rate = 1.\n",
        "    n_epochs = 1000\n",
        "\n",
        "    #training svm\n",
        "    for epoch in range(1, n_epochs + 1):\n",
        "      for i in range(len(x)): # for each data point\n",
        "        prediction = np.dot(x[i], w) + b\n",
        "        if y[i]*prediction < 1.: # incorrect classification\n",
        "            w = w - learning_rate * (-y[i]*x[i] +  (1./epoch) * h * w)\n",
        "            b = b - learning_rate * -y[i]\n",
        "        else: # correct classification\n",
        "            w = w - learning_rate * (1./epoch) * h * w\n",
        "            b = b - learning_rate * 0 # b is not involved in the update\n",
        "            \n",
        "      learning_rate = learning_rate * 0.995\n",
        "      \n",
        "    return w, b"
      ],
      "execution_count": 0,
      "outputs": []
    },
    {
      "cell_type": "code",
      "metadata": {
        "id": "0FdRRWbg-Qsm",
        "colab_type": "code",
        "colab": {}
      },
      "source": [
        "w, b = train_svm_using_sgd(X, Y)"
      ],
      "execution_count": 0,
      "outputs": []
    },
    {
      "cell_type": "code",
      "metadata": {
        "id": "OFX3Sx92E1XW",
        "colab_type": "code",
        "colab": {}
      },
      "source": [
        "def plot_margin(w, b):\n",
        "\n",
        "  def plot_line(slope,intercept,style):\n",
        "    x1 = 4\n",
        "    x2 = 7\n",
        "    y = [ (slope*x + intercept) for x in [x1,x2]]\n",
        "    plt.plot([x1,x2], y, style)\n",
        "\n",
        "  plot_line(-w[0]/w[1], -b/w[1], 'g-')\n",
        "  plot_line(-w[0]/w[1], (1-b)/w[1], 'g--')\n",
        "  plot_line(-w[0]/w[1], (-1-b)/w[1], 'g--')\n",
        "\n",
        "plot_margin(w,b)\n",
        "plt.scatter(c1.iloc[:,0], c1.iloc[:,1])\n",
        "plt.scatter(c2.iloc[:,0], c2.iloc[:,1])"
      ],
      "execution_count": 0,
      "outputs": []
    }
  ]
}